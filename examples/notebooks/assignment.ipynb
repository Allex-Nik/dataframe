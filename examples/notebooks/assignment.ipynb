{
 "cells": [
  {
   "metadata": {},
   "cell_type": "markdown",
   "source": [
    "# Project: IDE plugin for Kotlin DataFrame library\n",
    "\n",
    "### Aleksandr Nikolaev"
   ]
  },
  {
   "metadata": {},
   "cell_type": "raw",
   "source": [
    "Build the project:\n",
    "\n",
    "./gradlew clean build -x test"
   ]
  },
  {
   "metadata": {},
   "cell_type": "raw",
   "source": "Check the working directory."
  },
  {
   "metadata": {
    "ExecuteTime": {
     "end_time": "2024-12-18T09:58:13.401959300Z",
     "start_time": "2024-12-18T09:58:13.165035400Z"
    }
   },
   "cell_type": "code",
   "source": "println(System.getProperty(\"user.dir\"))",
   "outputs": [
    {
     "name": "stdout",
     "output_type": "stream",
     "text": [
      "C:/Users/20232179/Desktop/Study/Self/dataframe/examples/notebooks/\r\n"
     ]
    }
   ],
   "execution_count": 1
  },
  {
   "metadata": {},
   "cell_type": "raw",
   "source": "Use the local version of the library via the jar file."
  },
  {
   "metadata": {
    "ExecuteTime": {
     "end_time": "2024-12-18T09:58:14.329560300Z",
     "start_time": "2024-12-18T09:58:13.440477200Z"
    }
   },
   "cell_type": "code",
   "source": "@file:DependsOn(\"../../core/build/libs/core-0.16.0-dev.jar\")",
   "outputs": [],
   "execution_count": 2
  },
  {
   "metadata": {},
   "cell_type": "raw",
   "source": "Let's load a json file with several nesting levels."
  },
  {
   "metadata": {
    "ExecuteTime": {
     "end_time": "2024-12-18T09:58:15.817639900Z",
     "start_time": "2024-12-18T09:58:14.347565900Z"
    }
   },
   "cell_type": "code",
   "source": "val df_countries = DataFrame.readJson(\"../../data/countries.json\")",
   "outputs": [],
   "execution_count": 3
  },
  {
   "metadata": {},
   "cell_type": "raw",
   "source": [
    "The original library function toString() gives output:\n",
    "\n",
    "          region                                countries\n",
    " 0 North America { USA:{ states:{ California:{ populat..."
   ]
  },
  {
   "metadata": {},
   "cell_type": "raw",
   "source": "The new version of the function toString() gives:"
  },
  {
   "metadata": {
    "ExecuteTime": {
     "end_time": "2024-12-18T09:58:16.056148300Z",
     "start_time": "2024-12-18T09:58:15.834933700Z"
    }
   },
   "cell_type": "code",
   "source": "df_countries.toString()",
   "outputs": [
    {
     "data": {
      "text/plain": [
       "          region  countries                                                                            \n",
       "                        USA                                     Canada                                 \n",
       "                     states                                  provinces                                 \n",
       "                 California                 Texas              Ontario               Quebec            \n",
       "                 population    capital population   capital population   capital population     capital\n",
       " 0 North America   39538223 Sacramento   29145505    Austin   14734014   Toronto    8574571 Quebec City\n"
      ]
     },
     "execution_count": 4,
     "metadata": {},
     "output_type": "execute_result"
    }
   ],
   "execution_count": 4
  },
  {
   "metadata": {},
   "cell_type": "raw",
   "source": "More examples:"
  },
  {
   "metadata": {
    "ExecuteTime": {
     "end_time": "2024-12-18T09:58:16.570674300Z",
     "start_time": "2024-12-18T09:58:16.079149500Z"
    }
   },
   "cell_type": "code",
   "source": "val df_two_levels = DataFrame.readJson(\"../../data/two_levels.json\")",
   "outputs": [],
   "execution_count": 5
  },
  {
   "metadata": {},
   "cell_type": "raw",
   "source": [
    "Output in the original library:\n",
    "\n",
    "\n",
    "   name age                                  address\n",
    "\n",
    " 0 Jane  25 { street:123 Main St, city:Los Angele..."
   ]
  },
  {
   "metadata": {},
   "cell_type": "raw",
   "source": "Output in the new version:"
  },
  {
   "metadata": {
    "ExecuteTime": {
     "end_time": "2024-12-18T09:58:16.707077100Z",
     "start_time": "2024-12-18T09:58:16.590178300Z"
    }
   },
   "cell_type": "code",
   "source": "df_two_levels.toString()",
   "outputs": [
    {
     "data": {
      "text/plain": [
       "   name age     address                    \n",
       "                 street        city   state\n",
       " 0 Jane  25 123 Main St Los Angeles      CA\n"
      ]
     },
     "execution_count": 6,
     "metadata": {},
     "output_type": "execute_result"
    }
   ],
   "execution_count": 6
  },
  {
   "metadata": {
    "ExecuteTime": {
     "end_time": "2024-12-18T09:58:17.358568500Z",
     "start_time": "2024-12-18T09:58:16.719597500Z"
    }
   },
   "cell_type": "code",
   "source": "val df_three_levels = DataFrame.readJson(\"../../data/three_levels.json\")",
   "outputs": [],
   "execution_count": 7
  },
  {
   "metadata": {},
   "cell_type": "raw",
   "source": [
    "Output in the original library:\n",
    "\n",
    "                                 university\n",
    " 0 { name:Example University, location:{..."
   ]
  },
  {
   "metadata": {},
   "cell_type": "raw",
   "source": "Output in the new version:"
  },
  {
   "metadata": {
    "ExecuteTime": {
     "end_time": "2024-12-18T09:58:17.500662500Z",
     "start_time": "2024-12-18T09:58:17.389568800Z"
    }
   },
   "cell_type": "code",
   "source": "df_three_levels.toString()",
   "outputs": [
    {
     "data": {
      "text/plain": [
       "           university                                  \n",
       "                 name   location            departments\n",
       "                            city      state            \n",
       " 0 Example University     Boston         MA     [2 x 2]\n"
      ]
     },
     "execution_count": 8,
     "metadata": {},
     "output_type": "execute_result"
    }
   ],
   "execution_count": 8
  },
  {
   "metadata": {},
   "cell_type": "raw",
   "source": "The dataframes with ColumnKind.Frame look the same as in the original library."
  },
  {
   "metadata": {
    "ExecuteTime": {
     "end_time": "2024-12-18T09:58:19.594487100Z",
     "start_time": "2024-12-18T09:58:17.516675800Z"
    }
   },
   "cell_type": "code",
   "source": "val df_jetbrains_json = DataFrame.readJson(\"../../data/jetbrains.json\")",
   "outputs": [],
   "execution_count": 9
  },
  {
   "metadata": {
    "ExecuteTime": {
     "end_time": "2024-12-18T09:58:19.718935800Z",
     "start_time": "2024-12-18T09:58:19.626761800Z"
    }
   },
   "cell_type": "code",
   "source": "df_jetbrains_json.toString()",
   "outputs": [
    {
     "data": {
      "text/plain": [
       "                                     url      name      repos   members\n",
       " 0 https://api.github.com/orgs/JetBrains JetBrains [100 x 37] [187 x 7]\n"
      ]
     },
     "execution_count": 10,
     "metadata": {},
     "output_type": "execute_result"
    }
   ],
   "execution_count": 10
  },
  {
   "metadata": {
    "ExecuteTime": {
     "end_time": "2024-12-18T09:58:20.158970700Z",
     "start_time": "2024-12-18T09:58:19.783470400Z"
    }
   },
   "cell_type": "code",
   "source": "val df_tasks = DataFrame.readJson(\"../../data/tasks.json\")",
   "outputs": [],
   "execution_count": 11
  },
  {
   "metadata": {
    "ExecuteTime": {
     "end_time": "2024-12-18T09:58:20.252684200Z",
     "start_time": "2024-12-18T09:58:20.168915800Z"
    }
   },
   "cell_type": "code",
   "source": "df_tasks.toString()",
   "outputs": [
    {
     "data": {
      "text/plain": [
       "     organization projects\n",
       " 0 InnovativeTech  [2 x 2]\n"
      ]
     },
     "execution_count": 12,
     "metadata": {},
     "output_type": "execute_result"
    }
   ],
   "execution_count": 12
  },
  {
   "metadata": {
    "ExecuteTime": {
     "end_time": "2024-12-18T09:58:20.614725500Z",
     "start_time": "2024-12-18T09:58:20.266686800Z"
    }
   },
   "cell_type": "code",
   "source": "val df_courses = DataFrame.readJson(\"../../data/courses.json\")",
   "outputs": [],
   "execution_count": 13
  },
  {
   "metadata": {
    "ExecuteTime": {
     "end_time": "2024-12-18T09:58:20.690231Z",
     "start_time": "2024-12-18T09:58:20.622715500Z"
    }
   },
   "cell_type": "code",
   "source": "df_courses.toString()",
   "outputs": [
    {
     "data": {
      "text/plain": [
       "           university faculties\n",
       " 0 Example University   [2 x 2]\n"
      ]
     },
     "execution_count": 14,
     "metadata": {},
     "output_type": "execute_result"
    }
   ],
   "execution_count": 14
  },
  {
   "metadata": {
    "ExecuteTime": {
     "end_time": "2024-12-18T09:58:21.703650900Z",
     "start_time": "2024-12-18T09:58:20.700258500Z"
    }
   },
   "cell_type": "code",
   "source": "val df_playlistitems = DataFrame.readJson(\"../../data/playlistitems.json\")",
   "outputs": [],
   "execution_count": 15
  },
  {
   "metadata": {
    "ExecuteTime": {
     "end_time": "2024-12-18T09:58:21.815203700Z",
     "start_time": "2024-12-18T09:58:21.716667400Z"
    }
   },
   "cell_type": "code",
   "source": "df_playlistitems.toString()",
   "outputs": [
    {
     "data": {
      "text/plain": [
       "                               kind                        etag nextPageToken    items     pageInfo               \n",
       "                                                                                       totalResults resultsPerPage\n",
       " 0 youtube#playlistItemListResponse UcYoe0xbCoUGqpX9PFH0m9czzDk        CDIQAA [50 x 4]          824             50\n"
      ]
     },
     "execution_count": 16,
     "metadata": {},
     "output_type": "execute_result"
    }
   ],
   "execution_count": 16
  },
  {
   "metadata": {},
   "cell_type": "raw",
   "source": "For csv files, output is the same as in the original library."
  },
  {
   "metadata": {
    "ExecuteTime": {
     "end_time": "2024-12-18T09:58:22.477346700Z",
     "start_time": "2024-12-18T09:58:21.827735100Z"
    }
   },
   "cell_type": "code",
   "source": "val df_movies = DataFrame.readCSV(\"../../data/movies.csv\")",
   "outputs": [],
   "execution_count": 17
  },
  {
   "metadata": {
    "ExecuteTime": {
     "end_time": "2024-12-18T09:58:22.645120100Z",
     "start_time": "2024-12-18T09:58:22.499340700Z"
    }
   },
   "cell_type": "code",
   "source": "df_movies.toString()",
   "outputs": [
    {
     "data": {
      "text/plain": [
       "                             movieId                                    title                              genres\n",
       "  0 9b30aff7943f44579e92c261f3adc193                    Women in Black (1997)          Fantasy|Suspenseful|Comedy\n",
       "  1 2a1ba1fc5caf492a80188e032995843e                   Bumblebee Movie (2007)        Comedy|Jazz|Family|Animation\n",
       "  2 f44ceb4771504342bb856d76c112d5a6 Magical School Boy and the Rock of Wi...            Fantasy|Growing up|Magic\n",
       "  3 43d02fb064514ff3bd30d1e3a7398357 Master of the Jewlery: The Company of...           Fantasy|Magic|Suspenseful\n",
       "  4 6aa0d26a483148998c250b9c80ddf550 Sun Conflicts: Part IV: A Novel Espai...                             Fantasy\n",
       "  5 eace16e59ce24eff90bf8924eb6a926c              The Outstanding Bulk (2008)            Fantasy|Superhero|Family\n",
       "  6 ae916bc4844a4bb7b42b70d9573d05cd                       In Automata (2014)                  Horror|Existential\n",
       "  7 c1f0a868aeb44c5ea8d154ec3ca295ac                    Interplanetary (2014)                   Sci-fi|Futuristic\n",
       "  8 9595b771f87f42a3b8dd07d91e7cb328                         Woods Run (1994)                        Family|Drama\n",
       "  9 aa9fc400e068443488b259ea0802a975                    Anthropod-Dude (2002) Superhero|Fantasy|Family|Growing up\n",
       " 10 22d20c2ba11d44cab83aceea39dc00bd                       The Chamber (2003)                        Comedy|Drama\n",
       " 11 8cf4d0c1bd7b41fab6af9d92c892141f       That Thing About an Iceberg (1997)        Drama|History|Family|Romance\n",
       " 12 c2f3e7588da84684a7d78d6bd8d8e1f4                          Vehicles (2006)                    Animation|Family\n",
       " 13 ce06175106af4105945f245161eac3c7                   Playthings Tale (1995)                    Animation|Family\n",
       " 14 ee28d7e69103485c83e10b8055ef15fb                       Metal Man 2 (2010)            Fantasy|Superhero|Family\n",
       " 15 c32bdeed466f4ec09de828bb4b6fc649 Surgeon Odd in the Omniverse of Crazy...     Fantasy|Superhero|Family|Horror\n",
       " 16 d4a325ab648a42c4a2d6f35dfabb387f          Bad Dream on Pine Street (1984)                              Horror\n",
       " 17 60ebe74947234ddcab49dea1a958faed                    The Shimmering (1980)                              Horror\n",
       " 18 f24327f2b05147b197ca34bf13ae3524 Krubit: Societal Teachings for Do Man...                              Comedy\n",
       " 19 2bb29b3a245e434fa80542e711fd2cee                  This is No Movie (1950)                  (no genres listed)\n"
      ]
     },
     "execution_count": 18,
     "metadata": {},
     "output_type": "execute_result"
    }
   ],
   "execution_count": 18
  },
  {
   "metadata": {},
   "cell_type": "raw",
   "source": "According to the task, the output of the code can be in Swing, Compose, HTML. For this reason I created a file DataFrameInSwing.kt containing a function showDFInSwing(df: AnyFrame). This function can be used to output the result in Swing. For example:"
  },
  {
   "metadata": {
    "ExecuteTime": {
     "end_time": "2024-12-18T09:58:23.378279500Z",
     "start_time": "2024-12-18T09:58:22.669103Z"
    }
   },
   "cell_type": "code",
   "source": "showDFInSwing(df_three_levels)",
   "outputs": [],
   "execution_count": 19
  },
  {
   "metadata": {
    "ExecuteTime": {
     "end_time": "2024-12-18T09:58:23.606712300Z",
     "start_time": "2024-12-18T09:58:23.470159100Z"
    }
   },
   "cell_type": "code",
   "source": "showDFInSwing(df_countries)",
   "outputs": [],
   "execution_count": 20
  },
  {
   "metadata": {},
   "cell_type": "raw",
   "source": [
    "In the new version, it is also possible to pass arguments to renderToString() via new function toStringWithParams()\n",
    "\n",
    "You can try some examples:"
   ]
  },
  {
   "metadata": {
    "ExecuteTime": {
     "end_time": "2024-12-18T09:58:23.718249200Z",
     "start_time": "2024-12-18T09:58:23.618723100Z"
    }
   },
   "cell_type": "code",
   "source": "df_countries.toStringWithParams(borders = true, title = true, alignLeft = true, columnTypes = true, rowIndex = false)",
   "outputs": [
    {
     "data": {
      "text/plain": [
       "Data Frame [1 x 2]\n",
       "\n",
       "⌌--------------+---------------+---------------+---------------+---------------+---------------+---------------+---------------+---------------⌍\n",
       "|region:String |countries      |               |               |               |               |               |               |               |\n",
       "|              |USA            |               |               |               |Canada         |               |               |               |\n",
       "|              |states         |               |               |               |provinces      |               |               |               |\n",
       "|              |California     |               |Texas          |               |Ontario        |               |Quebec         |               |\n",
       "|              |population:Int |capital:String |population:Int |capital:String |population:Int |capital:String |population:Int |capital:String |\n",
       "|--------------|---------------|---------------|---------------|---------------|---------------|---------------|---------------|---------------|\n",
       "|North America |39538223       |Sacramento     |29145505       |Austin         |14734014       |Toronto        |8574571        |Quebec City    |\n",
       "⌎--------------+---------------+---------------+---------------+---------------+---------------+---------------+---------------+---------------⌏\n"
      ]
     },
     "execution_count": 21,
     "metadata": {},
     "output_type": "execute_result"
    }
   ],
   "execution_count": 21
  },
  {
   "metadata": {
    "ExecuteTime": {
     "end_time": "2024-12-18T09:58:23.865848600Z",
     "start_time": "2024-12-18T09:58:23.748719400Z"
    }
   },
   "cell_type": "code",
   "source": "df_three_levels.toStringWithParams(borders = true, title = true, alignLeft = false, columnTypes = false, rowIndex = true)",
   "outputs": [
    {
     "data": {
      "text/plain": [
       "Data Frame [1 x 1]\n",
       "\n",
       "⌌--+-------------------+-----------+-----------+------------⌍\n",
       "|  |         university|           |           |            |\n",
       "|  |               name|   location|           | departments|\n",
       "|  |                   |       city|      state|            |\n",
       "|--|-------------------|-----------|-----------|------------|\n",
       "| 0| Example University|     Boston|         MA|     [2 x 2]|\n",
       "⌎--+-------------------+-----------+-----------+------------⌏\n"
      ]
     },
     "execution_count": 22,
     "metadata": {},
     "output_type": "execute_result"
    }
   ],
   "execution_count": 22
  },
  {
   "metadata": {
    "ExecuteTime": {
     "end_time": "2024-12-18T09:58:23.964331200Z",
     "start_time": "2024-12-18T09:58:23.884232200Z"
    }
   },
   "cell_type": "code",
   "source": "df_courses.toStringWithParams(borders = true, title = true)",
   "outputs": [
    {
     "data": {
      "text/plain": [
       "Data Frame [1 x 2]\n",
       "\n",
       "⌌--+-------------------+----------⌍\n",
       "|  |         university| faculties|\n",
       "|--|-------------------|----------|\n",
       "| 0| Example University|   [2 x 2]|\n",
       "⌎--+-------------------+----------⌏\n"
      ]
     },
     "execution_count": 23,
     "metadata": {},
     "output_type": "execute_result"
    }
   ],
   "execution_count": 23
  }
 ],
 "metadata": {
  "kernelspec": {
   "display_name": "Kotlin",
   "language": "kotlin",
   "name": "kotlin"
  },
  "language_info": {
   "name": "kotlin",
   "version": "1.9.23",
   "mimetype": "text/x-kotlin",
   "file_extension": ".kt",
   "pygments_lexer": "kotlin",
   "codemirror_mode": "text/x-kotlin",
   "nbconvert_exporter": ""
  }
 },
 "nbformat": 4,
 "nbformat_minor": 0
}
